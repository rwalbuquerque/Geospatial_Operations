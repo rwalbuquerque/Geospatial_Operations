{
 "cells": [
  {
   "cell_type": "code",
   "execution_count": 1,
   "metadata": {},
   "outputs": [
    {
     "name": "stderr",
     "output_type": "stream",
     "text": [
      "C:\\Users\\Rafael\\anaconda3\\envs\\rasterio_gpd\\lib\\site-packages\\tensorflow\\python\\framework\\dtypes.py:516: FutureWarning: Passing (type, 1) or '1type' as a synonym of type is deprecated; in a future version of numpy, it will be understood as (type, (1,)) / '(1,)type'.\n",
      "  _np_qint8 = np.dtype([(\"qint8\", np.int8, 1)])\n",
      "C:\\Users\\Rafael\\anaconda3\\envs\\rasterio_gpd\\lib\\site-packages\\tensorflow\\python\\framework\\dtypes.py:517: FutureWarning: Passing (type, 1) or '1type' as a synonym of type is deprecated; in a future version of numpy, it will be understood as (type, (1,)) / '(1,)type'.\n",
      "  _np_quint8 = np.dtype([(\"quint8\", np.uint8, 1)])\n",
      "C:\\Users\\Rafael\\anaconda3\\envs\\rasterio_gpd\\lib\\site-packages\\tensorflow\\python\\framework\\dtypes.py:518: FutureWarning: Passing (type, 1) or '1type' as a synonym of type is deprecated; in a future version of numpy, it will be understood as (type, (1,)) / '(1,)type'.\n",
      "  _np_qint16 = np.dtype([(\"qint16\", np.int16, 1)])\n",
      "C:\\Users\\Rafael\\anaconda3\\envs\\rasterio_gpd\\lib\\site-packages\\tensorflow\\python\\framework\\dtypes.py:519: FutureWarning: Passing (type, 1) or '1type' as a synonym of type is deprecated; in a future version of numpy, it will be understood as (type, (1,)) / '(1,)type'.\n",
      "  _np_quint16 = np.dtype([(\"quint16\", np.uint16, 1)])\n",
      "C:\\Users\\Rafael\\anaconda3\\envs\\rasterio_gpd\\lib\\site-packages\\tensorflow\\python\\framework\\dtypes.py:520: FutureWarning: Passing (type, 1) or '1type' as a synonym of type is deprecated; in a future version of numpy, it will be understood as (type, (1,)) / '(1,)type'.\n",
      "  _np_qint32 = np.dtype([(\"qint32\", np.int32, 1)])\n",
      "C:\\Users\\Rafael\\anaconda3\\envs\\rasterio_gpd\\lib\\site-packages\\tensorflow\\python\\framework\\dtypes.py:525: FutureWarning: Passing (type, 1) or '1type' as a synonym of type is deprecated; in a future version of numpy, it will be understood as (type, (1,)) / '(1,)type'.\n",
      "  np_resource = np.dtype([(\"resource\", np.ubyte, 1)])\n",
      "C:\\Users\\Rafael\\anaconda3\\envs\\rasterio_gpd\\lib\\site-packages\\tensorboard\\compat\\tensorflow_stub\\dtypes.py:541: FutureWarning: Passing (type, 1) or '1type' as a synonym of type is deprecated; in a future version of numpy, it will be understood as (type, (1,)) / '(1,)type'.\n",
      "  _np_qint8 = np.dtype([(\"qint8\", np.int8, 1)])\n",
      "C:\\Users\\Rafael\\anaconda3\\envs\\rasterio_gpd\\lib\\site-packages\\tensorboard\\compat\\tensorflow_stub\\dtypes.py:542: FutureWarning: Passing (type, 1) or '1type' as a synonym of type is deprecated; in a future version of numpy, it will be understood as (type, (1,)) / '(1,)type'.\n",
      "  _np_quint8 = np.dtype([(\"quint8\", np.uint8, 1)])\n",
      "C:\\Users\\Rafael\\anaconda3\\envs\\rasterio_gpd\\lib\\site-packages\\tensorboard\\compat\\tensorflow_stub\\dtypes.py:543: FutureWarning: Passing (type, 1) or '1type' as a synonym of type is deprecated; in a future version of numpy, it will be understood as (type, (1,)) / '(1,)type'.\n",
      "  _np_qint16 = np.dtype([(\"qint16\", np.int16, 1)])\n",
      "C:\\Users\\Rafael\\anaconda3\\envs\\rasterio_gpd\\lib\\site-packages\\tensorboard\\compat\\tensorflow_stub\\dtypes.py:544: FutureWarning: Passing (type, 1) or '1type' as a synonym of type is deprecated; in a future version of numpy, it will be understood as (type, (1,)) / '(1,)type'.\n",
      "  _np_quint16 = np.dtype([(\"quint16\", np.uint16, 1)])\n",
      "C:\\Users\\Rafael\\anaconda3\\envs\\rasterio_gpd\\lib\\site-packages\\tensorboard\\compat\\tensorflow_stub\\dtypes.py:545: FutureWarning: Passing (type, 1) or '1type' as a synonym of type is deprecated; in a future version of numpy, it will be understood as (type, (1,)) / '(1,)type'.\n",
      "  _np_qint32 = np.dtype([(\"qint32\", np.int32, 1)])\n",
      "C:\\Users\\Rafael\\anaconda3\\envs\\rasterio_gpd\\lib\\site-packages\\tensorboard\\compat\\tensorflow_stub\\dtypes.py:550: FutureWarning: Passing (type, 1) or '1type' as a synonym of type is deprecated; in a future version of numpy, it will be understood as (type, (1,)) / '(1,)type'.\n",
      "  np_resource = np.dtype([(\"resource\", np.ubyte, 1)])\n"
     ]
    }
   ],
   "source": [
    "import tensorflow as tf\n",
    "import tensorboard\n",
    "import datetime, os\n",
    "import glob as glob\n",
    "import numpy as np\n",
    "from tensorflow import keras\n",
    "from tensorflow.keras.optimizers import *\n",
    "from datetime import datetime"
   ]
  },
  {
   "cell_type": "code",
   "execution_count": 3,
   "metadata": {},
   "outputs": [],
   "source": [
    "# WARNING: This notebook demands tensorflow > 2.0\n",
    "\n",
    "from tensorflow.python.summary.summary_iterator import summary_iterator\n",
    "from tensorflow.python.framework import tensor_util"
   ]
  },
  {
   "cell_type": "code",
   "execution_count": 4,
   "metadata": {},
   "outputs": [
    {
     "name": "stdout",
     "output_type": "stream",
     "text": [
      "WARNING:tensorflow:From C:\\Users\\Rafael\\anaconda3\\envs\\rasterio_gpd\\lib\\site-packages\\tensorflow\\python\\summary\\summary_iterator.py:68: tf_record_iterator (from tensorflow.python.lib.io.tf_record) is deprecated and will be removed in a future version.\n",
      "Instructions for updating:\n",
      "Use eager execution and: \n",
      "`tf.data.TFRecordDataset(path)`\n"
     ]
    }
   ],
   "source": [
    "# This example supposes that the events file contains summaries with a\n",
    "# summary value tag 'loss'.  These could have been added by calling\n",
    "# `add_summary()`, passing the output of a scalar summary op created with\n",
    "# with: `tf.scalar_summary(['loss'], loss_tensor)`.\n",
    "\n",
    "# Get loss values on a list to plot on a graph\n",
    "loss_dict = []\n",
    "\n",
    "# This step must be repeated to each logs file to save the list in correct order of epochs\n",
    "for e in summary_iterator('C:/Projetos/Vant_Rondonia_Embrapa/09Dez2019/Deep_Learning_Cecropia/Treinamento/events.out.tfevents.1601388482.PET-1300-03'):\n",
    "    for v in e.summary.value:\n",
    "        if v.tag == 'loss' or v.tag == 'accuracy':\n",
    "            loss_dict.append(v.simple_value)\n",
    "            #print(v.simple_value)\n",
    "\n",
    "for e in summary_iterator('C:/Projetos/Vant_Rondonia_Embrapa/09Dez2019/Deep_Learning_Cecropia/Treinamento/events.out.tfevents.1601589007.PET-1300-03'):\n",
    "    for v in e.summary.value:\n",
    "        if v.tag == 'loss' or v.tag == 'accuracy':\n",
    "            loss_dict.append(v.simple_value)\n",
    "            #print(v.simple_value)\n",
    "\n",
    "for e in summary_iterator('C:/Projetos/Vant_Rondonia_Embrapa/09Dez2019/Deep_Learning_Cecropia/Treinamento/events.out.tfevents.1601902387.PET-1300-03'):\n",
    "    for v in e.summary.value:\n",
    "        if v.tag == 'loss' or v.tag == 'accuracy':\n",
    "            loss_dict.append(v.simple_value)\n",
    "            #print(v.simple_value)\n",
    "            \n",
    "for e in summary_iterator('C:/Projetos/Vant_Rondonia_Embrapa/09Dez2019/Deep_Learning_Cecropia/Treinamento/events.out.tfevents.1602204571.PET-1300-03'):\n",
    "    for v in e.summary.value:\n",
    "        if v.tag == 'loss' or v.tag == 'accuracy':\n",
    "            loss_dict.append(v.simple_value)\n",
    "            #print(v.simple_value)"
   ]
  },
  {
   "cell_type": "code",
   "execution_count": 5,
   "metadata": {},
   "outputs": [],
   "source": [
    "# Get val_loss values on a list to plot on a graph\n",
    "val_loss_dict = []\n",
    "\n",
    "#for e in tf.train.summary_iterator('/content/drive/My Drive/Tutorial_Mask_RCNN/events.out.tfevents.1600924049.PET-1300-03'):\n",
    "for e in summary_iterator('C:/Projetos/Vant_Rondonia_Embrapa/09Dez2019/Deep_Learning_Cecropia/Treinamento/events.out.tfevents.1601388482.PET-1300-03'):\n",
    "    for v in e.summary.value:\n",
    "        if v.tag == 'val_loss' or v.tag == 'accuracy':\n",
    "            val_loss_dict.append(v.simple_value)\n",
    "            #print(v.simple_value)\n",
    "\n",
    "for e in summary_iterator('C:/Projetos/Vant_Rondonia_Embrapa/09Dez2019/Deep_Learning_Cecropia/Treinamento/events.out.tfevents.1601589007.PET-1300-03'):\n",
    "    for v in e.summary.value:\n",
    "        if v.tag == 'val_loss' or v.tag == 'accuracy':\n",
    "            val_loss_dict.append(v.simple_value)\n",
    "            #print(v.simple_value)\n",
    "            \n",
    "for e in summary_iterator('C:/Projetos/Vant_Rondonia_Embrapa/09Dez2019/Deep_Learning_Cecropia/Treinamento/events.out.tfevents.1601902387.PET-1300-03'):\n",
    "    for v in e.summary.value:\n",
    "        if v.tag == 'val_loss' or v.tag == 'accuracy':\n",
    "            val_loss_dict.append(v.simple_value)\n",
    "            #print(v.simple_value)\n",
    "            \n",
    "for e in summary_iterator('C:/Projetos/Vant_Rondonia_Embrapa/09Dez2019/Deep_Learning_Cecropia/Treinamento/events.out.tfevents.1602204571.PET-1300-03'):\n",
    "    for v in e.summary.value:\n",
    "        if v.tag == 'val_loss' or v.tag == 'accuracy':\n",
    "            val_loss_dict.append(v.simple_value)\n",
    "            #print(v.simple_value)"
   ]
  },
  {
   "cell_type": "code",
   "execution_count": 6,
   "metadata": {},
   "outputs": [
    {
     "data": {
      "image/png": "[encoded data removed]",
      "text/plain": [
       "<Figure size 432x288 with 1 Axes>"
      ]
     },
     "metadata": {
      "needs_background": "light"
     },
     "output_type": "display_data"
    }
   ],
   "source": [
    "import matplotlib.pyplot as plt\n",
    "from matplotlib.legend_handler import HandlerLine2D\n",
    "\n",
    "# Curves plot must add one to avoid values considering index zero and start values from one \n",
    "line1, = plt.plot(range(1, sum([len(loss_dict), 1])), loss_dict, label=\"train\", color='black')\n",
    "line2, = plt.plot(range(1, sum([len(loss_dict), 1])), val_loss_dict, label=\"validation\", color='gray')\n",
    "# Place legend inside the box and at the left\n",
    "plt.legend(handler_map={line1: HandlerLine2D(numpoints=4)})\n",
    "# Make symbols in the legend with same size\n",
    "for line in plt.legend().get_lines():\n",
    "    line.set_linewidth(1.5)\n",
    "plt.xlabel('epochs')\n",
    "plt.ylabel('loss values')\n",
    "plt.savefig('C:/Projetos/Vant_Rondonia_Embrapa/09Dez2019/Deep_Learning_Cecropia/Treinamento/Cecropia_TrainLosses.jpg', dpi=300)\n",
    "plt.show()"
   ]
  },
  {
   "cell_type": "code",
   "execution_count": 7,
   "metadata": {},
   "outputs": [
    {
     "data": {
      "image/png": "[encoded data removed]",
      "text/plain": [
       "<Figure size 432x288 with 1 Axes>"
      ]
     },
     "metadata": {
      "needs_background": "light"
     },
     "output_type": "display_data"
    }
   ],
   "source": [
    "#Plotar em Português pt-BR\n",
    "\n",
    "import matplotlib.pyplot as plt\n",
    "from matplotlib.legend_handler import HandlerLine2D\n",
    "\n",
    "# Curves plot must add one to avoid values considering index zero and start values from one \n",
    "line1, = plt.plot(range(1, sum([len(loss_dict), 1])), loss_dict, label=\"treinamento\", color='black')\n",
    "line2, = plt.plot(range(1, sum([len(loss_dict), 1])), val_loss_dict, label=\"validação\", color='gray')\n",
    "# Place legend inside the box and at the left\n",
    "plt.legend(handler_map={line1: HandlerLine2D(numpoints=4)})\n",
    "# Make symbols in the legend with same size\n",
    "for line in plt.legend().get_lines():\n",
    "    line.set_linewidth(1.5)\n",
    "plt.xlabel('épocas')\n",
    "plt.ylabel('valores da perda')\n",
    "plt.savefig('C:/Projetos/Vant_Rondonia_Embrapa/09Dez2019/Deep_Learning_Cecropia/Treinamento/Cecropia_Perdas_Treino.jpg', dpi=300)\n",
    "plt.show()"
   ]
  }
 ],
 "metadata": {
  "kernelspec": {
   "display_name": "Python [conda env:rasterio_gpd] *",
   "language": "python",
   "name": "conda-env-rasterio_gpd-py"
  },
  "language_info": {
   "codemirror_mode": {
    "name": "ipython",
    "version": 3
   },
   "file_extension": ".py",
   "mimetype": "text/x-python",
   "name": "python",
   "nbconvert_exporter": "python",
   "pygments_lexer": "ipython3",
   "version": "3.7.8"
  }
 },
 "nbformat": 4,
 "nbformat_minor": 4
}
