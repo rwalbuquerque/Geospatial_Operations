{
 "cells": [
  {
   "cell_type": "code",
   "execution_count": 20,
   "metadata": {},
   "outputs": [],
   "source": [
    "import pandas as pd\n",
    "import numpy as np\n",
    "import geopandas as gpd\n",
    "import rasterio as rio\n",
    "from rasterio.plot import show\n",
    "from rasterio.mask import mask\n",
    "import matplotlib.pyplot as plt\n",
    "from scipy.signal import savgol_filter"
   ]
  },
  {
   "cell_type": "code",
   "execution_count": 26,
   "metadata": {},
   "outputs": [
    {
     "name": "stdout",
     "output_type": "stream",
     "text": [
      "Saving...\n"
     ]
    }
   ],
   "source": [
    "with rio.open('C:/Projetos/Vant_Apui/Phantom3/Capoeira_2anos/Deep_Learning_PR2y/Mosaic_Tile1_esticado.tif') as src:\n",
    "    # Open the red band\n",
    "    redBand = src.read(1)\n",
    "    # Open the green band\n",
    "    greenBand = src.read(2)\n",
    "    # Open the blue band\n",
    "    blueBand = src.read(3)\n",
    "\n",
    "    # Edit the metadata\n",
    "    kwargs = src.meta\n",
    "    kwargs.update(\n",
    "    #count = 3)\n",
    "    redBand = savgol_filter(redBand, 5, 2),\n",
    "    greenBand = savgol_filter(greenBand, 5, 2),\n",
    "    blueBand = savgol_filter(blueBand, 5, 2))\n",
    "\n",
    "    # Save the data\n",
    "    with rio.open(f\"C:/Projetos/Vant_Apui/Phantom3/Capoeira_2anos/Deep_Learning_PR2y/SavGol_filter.tif\",'w', **kwargs) as dst:\n",
    "      # Write the bands\n",
    "      print(\"Saving...\")\n",
    "      dst.write_band(1,redBand)\n",
    "      dst.write_band(2,greenBand)\n",
    "      dst.write_band(3,blueBand)"
   ]
  },
  {
   "cell_type": "code",
   "execution_count": 11,
   "metadata": {},
   "outputs": [],
   "source": []
  }
 ],
 "metadata": {
  "kernelspec": {
   "display_name": "Python 3",
   "language": "python",
   "name": "python3"
  },
  "language_info": {
   "codemirror_mode": {
    "name": "ipython",
    "version": 3
   },
   "file_extension": ".py",
   "mimetype": "text/x-python",
   "name": "python",
   "nbconvert_exporter": "python",
   "pygments_lexer": "ipython3",
   "version": "3.7.6"
  }
 },
 "nbformat": 4,
 "nbformat_minor": 4
}
