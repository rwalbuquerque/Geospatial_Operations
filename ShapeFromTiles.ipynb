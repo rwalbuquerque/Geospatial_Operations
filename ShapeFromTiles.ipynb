{
 "cells": [
  {
   "cell_type": "code",
   "execution_count": null,
   "metadata": {
    "colab": {
     "base_uri": "https://localhost:8080/",
     "height": 168
    },
    "colab_type": "code",
    "executionInfo": {
     "elapsed": 3667,
     "status": "ok",
     "timestamp": 1591391260516,
     "user": {
      "displayName": "Rafael Walter de Albuquerque",
      "photoUrl": "",
      "userId": "00119834175126614512"
     },
     "user_tz": 180
    },
    "id": "v0BlDs_Sd1nM",
    "outputId": "6783811f-9716-4386-cc35-cab4b3b61008"
   },
   "outputs": [
    {
     "name": "stdout",
     "output_type": "stream",
     "text": [
      "Requirement already satisfied: rasterio in /usr/local/lib/python3.6/dist-packages (1.1.5)\n",
      "Requirement already satisfied: snuggs>=1.4.1 in /usr/local/lib/python3.6/dist-packages (from rasterio) (1.4.7)\n",
      "Requirement already satisfied: numpy in /usr/local/lib/python3.6/dist-packages (from rasterio) (1.18.4)\n",
      "Requirement already satisfied: affine in /usr/local/lib/python3.6/dist-packages (from rasterio) (2.3.0)\n",
      "Requirement already satisfied: click-plugins in /usr/local/lib/python3.6/dist-packages (from rasterio) (1.1.1)\n",
      "Requirement already satisfied: cligj>=0.5 in /usr/local/lib/python3.6/dist-packages (from rasterio) (0.5.0)\n",
      "Requirement already satisfied: attrs in /usr/local/lib/python3.6/dist-packages (from rasterio) (19.3.0)\n",
      "Requirement already satisfied: click<8,>=4.0 in /usr/local/lib/python3.6/dist-packages (from rasterio) (7.1.2)\n",
      "Requirement already satisfied: pyparsing>=2.1.6 in /usr/local/lib/python3.6/dist-packages (from snuggs>=1.4.1->rasterio) (2.4.7)\n"
     ]
    }
   ],
   "source": [
    "pip install rasterio"
   ]
  },
  {
   "cell_type": "code",
   "execution_count": null,
   "metadata": {
    "colab": {
     "base_uri": "https://localhost:8080/",
     "height": 252
    },
    "colab_type": "code",
    "executionInfo": {
     "elapsed": 3703,
     "status": "ok",
     "timestamp": 1591391266317,
     "user": {
      "displayName": "Rafael Walter de Albuquerque",
      "photoUrl": "",
      "userId": "00119834175126614512"
     },
     "user_tz": 180
    },
    "id": "Z_YQ5Tx0cpWU",
    "outputId": "592a3fe1-e95d-4259-9a37-a2ee6dfaaff8"
   },
   "outputs": [
    {
     "name": "stdout",
     "output_type": "stream",
     "text": [
      "Requirement already satisfied: geopandas in /usr/local/lib/python3.6/dist-packages (0.7.0)\n",
      "Requirement already satisfied: fiona in /usr/local/lib/python3.6/dist-packages (from geopandas) (1.8.13.post1)\n",
      "Requirement already satisfied: shapely in /usr/local/lib/python3.6/dist-packages (from geopandas) (1.7.0)\n",
      "Requirement already satisfied: pyproj>=2.2.0 in /usr/local/lib/python3.6/dist-packages (from geopandas) (2.6.1.post1)\n",
      "Requirement already satisfied: pandas>=0.23.0 in /usr/local/lib/python3.6/dist-packages (from geopandas) (1.0.4)\n",
      "Requirement already satisfied: click-plugins>=1.0 in /usr/local/lib/python3.6/dist-packages (from fiona->geopandas) (1.1.1)\n",
      "Requirement already satisfied: attrs>=17 in /usr/local/lib/python3.6/dist-packages (from fiona->geopandas) (19.3.0)\n",
      "Requirement already satisfied: six>=1.7 in /usr/local/lib/python3.6/dist-packages (from fiona->geopandas) (1.12.0)\n",
      "Requirement already satisfied: cligj>=0.5 in /usr/local/lib/python3.6/dist-packages (from fiona->geopandas) (0.5.0)\n",
      "Requirement already satisfied: click<8,>=4.0 in /usr/local/lib/python3.6/dist-packages (from fiona->geopandas) (7.1.2)\n",
      "Requirement already satisfied: munch in /usr/local/lib/python3.6/dist-packages (from fiona->geopandas) (2.5.0)\n",
      "Requirement already satisfied: python-dateutil>=2.6.1 in /usr/local/lib/python3.6/dist-packages (from pandas>=0.23.0->geopandas) (2.8.1)\n",
      "Requirement already satisfied: pytz>=2017.2 in /usr/local/lib/python3.6/dist-packages (from pandas>=0.23.0->geopandas) (2018.9)\n",
      "Requirement already satisfied: numpy>=1.13.3 in /usr/local/lib/python3.6/dist-packages (from pandas>=0.23.0->geopandas) (1.18.4)\n"
     ]
    }
   ],
   "source": [
    "pip install geopandas"
   ]
  },
  {
   "cell_type": "code",
   "execution_count": null,
   "metadata": {
    "colab": {},
    "colab_type": "code",
    "id": "wTXnKfmmZDvv"
   },
   "outputs": [],
   "source": [
    "# Import libraries\n",
    "import rasterio as rio\n",
    "import geopandas as gpd\n",
    "from shapely.geometry import Polygon\n"
   ]
  },
  {
   "cell_type": "code",
   "execution_count": null,
   "metadata": {
    "colab": {},
    "colab_type": "code",
    "id": "YsnLJ29RXHsn"
   },
   "outputs": [],
   "source": [
    "def generateShapefileFromTiles(tilesList,saveFolder):\n",
    "  \"\"\"Function to automatically generate shapefiles with the same size and name of the tiles from a folder\n",
    "\n",
    "  Parameters:\n",
    "\n",
    "  tilesList (list) = \"List with the path to all tiles\"\n",
    "  saveFolder = \"Path to save the shapefiles\"\n",
    "  \"\"\"\n",
    "  # Loop over all files in tilesList\n",
    "  for tile in tilesList:\n",
    "    name = tile.split(\"/\")[-1]\n",
    "    print(f\"File: {name}\")\n",
    "    # Get the name of the number from the image name\n",
    "    tileName = tile.split(\"image\")[-1]\n",
    "    tileName = tileName.split(\".tif\")[0]\n",
    "    # Open the image\n",
    "    with rio.open(tile) as src:\n",
    "      # Get the cordinate reference system (crs)\n",
    "      crs = src.crs\n",
    "      # Get lat and long bounds\n",
    "      latMax = src.bounds[2]\n",
    "      latMin = src.bounds[0]\n",
    "      longMax = src.bounds[3]\n",
    "      longMin = src.bounds[1]\n",
    "    # Create a polygon with the coordinates\n",
    "    list_polygon = []\n",
    "    long = [latMax, latMin, latMin,latMax,latMax] \n",
    "    lat = [longMax,longMax,longMin, longMin,longMax]\n",
    "    list_polygon.append(Polygon(zip(long,lat)))\n",
    "    polygon = gpd.GeoDataFrame(crs=crs, geometry=list_polygon) \n",
    "    # Save as shapefile\n",
    "    print(f\"Shapefile: shape{tileName}.shp was saved in: {saveFolder}\")\n",
    "    polygon.to_file(filename=f\"{saveFolder}/shape{tileName}.shp\")\n",
    "\n"
   ]
  },
  {
   "cell_type": "code",
   "execution_count": null,
   "metadata": {
    "colab": {
     "base_uri": "https://localhost:8080/",
     "height": 121
    },
    "colab_type": "code",
    "executionInfo": {
     "elapsed": 35371,
     "status": "ok",
     "timestamp": 1591391401382,
     "user": {
      "displayName": "Rafael Walter de Albuquerque",
      "photoUrl": "",
      "userId": "00119834175126614512"
     },
     "user_tz": 180
    },
    "id": "0MnRM0BAUPKx",
    "outputId": "452187a0-8d2f-4cc6-eb15-020953cbaf06"
   },
   "outputs": [
    {
     "name": "stdout",
     "output_type": "stream",
     "text": [
      "Go to this URL in a browser: https://accounts.google.com/o/oauth2/auth?client_id=947318989803-6bn6qk8qdgf4n4g3pfee6491hc0brc4i.apps.googleusercontent.com&redirect_uri=urn%3aietf%3awg%3aoauth%3a2.0%3aoob&response_type=code&scope=email%20https%3a%2f%2fwww.googleapis.com%2fauth%2fdocs.test%20https%3a%2f%2fwww.googleapis.com%2fauth%2fdrive%20https%3a%2f%2fwww.googleapis.com%2fauth%2fdrive.photos.readonly%20https%3a%2f%2fwww.googleapis.com%2fauth%2fpeopleapi.readonly\n",
      "\n",
      "Enter your authorization code:\n",
      "··········\n",
      "Mounted at /content/drive\n"
     ]
    }
   ],
   "source": [
    "from google.colab import drive\n",
    "drive.mount('/content/drive')"
   ]
  },
  {
   "cell_type": "code",
   "execution_count": null,
   "metadata": {
    "colab": {
     "base_uri": "https://localhost:8080/",
     "height": 54
    },
    "colab_type": "code",
    "executionInfo": {
     "elapsed": 2773,
     "status": "ok",
     "timestamp": 1591391411890,
     "user": {
      "displayName": "Rafael Walter de Albuquerque",
      "photoUrl": "",
      "userId": "00119834175126614512"
     },
     "user_tz": 180
    },
    "id": "sLDM-c-5cnn-",
    "outputId": "f3ebe57d-fd8f-4d26-d91f-1b5a24772fa3"
   },
   "outputs": [
    {
     "name": "stdout",
     "output_type": "stream",
     "text": [
      "['/content/drive/My Drive/Tutorial_Mask_RCNN/Mask_RCNN/dataset/trees/Tiles_Overlap/image2.tif', '/content/drive/My Drive/Tutorial_Mask_RCNN/Mask_RCNN/dataset/trees/Tiles_Overlap/image4.tif', '/content/drive/My Drive/Tutorial_Mask_RCNN/Mask_RCNN/dataset/trees/Tiles_Overlap/image1.tif', '/content/drive/My Drive/Tutorial_Mask_RCNN/Mask_RCNN/dataset/trees/Tiles_Overlap/image0.tif', '/content/drive/My Drive/Tutorial_Mask_RCNN/Mask_RCNN/dataset/trees/Tiles_Overlap/image5.tif', '/content/drive/My Drive/Tutorial_Mask_RCNN/Mask_RCNN/dataset/trees/Tiles_Overlap/image3.tif']\n"
     ]
    }
   ],
   "source": [
    "# Test\n",
    "\n",
    "from glob import glob\n",
    "\n",
    "# get all .tif files from the folder\n",
    "\n",
    "files = glob(\"/content/drive/My Drive/Tutorial_Mask_RCNN/Mask_RCNN/dataset/trees/Tiles_Overlap/*.tif\")\n",
    "print(files)"
   ]
  },
  {
   "cell_type": "code",
   "execution_count": null,
   "metadata": {
    "colab": {
     "base_uri": "https://localhost:8080/",
     "height": 218
    },
    "colab_type": "code",
    "executionInfo": {
     "elapsed": 2630,
     "status": "ok",
     "timestamp": 1591391433215,
     "user": {
      "displayName": "Rafael Walter de Albuquerque",
      "photoUrl": "",
      "userId": "00119834175126614512"
     },
     "user_tz": 180
    },
    "id": "Xr9JpvB8dgQN",
    "outputId": "7cb4d272-0494-4fc3-a598-724493795ed8"
   },
   "outputs": [
    {
     "name": "stdout",
     "output_type": "stream",
     "text": [
      "File: image2.tif\n",
      "Shapefile: shape2.shp was saved in: /content/drive/My Drive/Tutorial_Mask_RCNN/Mask_RCNN/dataset/trees/Tiles_Overlap\n",
      "File: image4.tif\n",
      "Shapefile: shape4.shp was saved in: /content/drive/My Drive/Tutorial_Mask_RCNN/Mask_RCNN/dataset/trees/Tiles_Overlap\n",
      "File: image1.tif\n",
      "Shapefile: shape1.shp was saved in: /content/drive/My Drive/Tutorial_Mask_RCNN/Mask_RCNN/dataset/trees/Tiles_Overlap\n",
      "File: image0.tif\n",
      "Shapefile: shape0.shp was saved in: /content/drive/My Drive/Tutorial_Mask_RCNN/Mask_RCNN/dataset/trees/Tiles_Overlap\n",
      "File: image5.tif\n",
      "Shapefile: shape5.shp was saved in: /content/drive/My Drive/Tutorial_Mask_RCNN/Mask_RCNN/dataset/trees/Tiles_Overlap\n",
      "File: image3.tif\n",
      "Shapefile: shape3.shp was saved in: /content/drive/My Drive/Tutorial_Mask_RCNN/Mask_RCNN/dataset/trees/Tiles_Overlap\n"
     ]
    }
   ],
   "source": [
    "# Run the function\n",
    "generateShapefileFromTiles(tilesList=files,saveFolder =\"/content/drive/My Drive/Tutorial_Mask_RCNN/Mask_RCNN/dataset/trees/Tiles_Overlap\" )"
   ]
  },
  {
   "cell_type": "code",
   "execution_count": null,
   "metadata": {
    "colab": {},
    "colab_type": "code",
    "id": "USI950fvdzI8"
   },
   "outputs": [],
   "source": []
  }
 ],
 "metadata": {
  "colab": {
   "collapsed_sections": [],
   "name": "ShapeFromTiles.ipynb",
   "provenance": []
  },
  "kernelspec": {
   "display_name": "Python 3",
   "language": "python",
   "name": "python3"
  },
  "language_info": {
   "codemirror_mode": {
    "name": "ipython",
    "version": 3
   },
   "file_extension": ".py",
   "mimetype": "text/x-python",
   "name": "python",
   "nbconvert_exporter": "python",
   "pygments_lexer": "ipython3",
   "version": "3.7.6"
  }
 },
 "nbformat": 4,
 "nbformat_minor": 1
}
