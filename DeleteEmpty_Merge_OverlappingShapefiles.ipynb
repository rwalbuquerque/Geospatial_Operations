{
 "cells": [
  {
   "cell_type": "code",
   "execution_count": 6,
   "metadata": {
    "colab": {
     "base_uri": "https://localhost:8080/",
     "height": 1000
    },
    "colab_type": "code",
    "executionInfo": {
     "elapsed": 214182,
     "status": "ok",
     "timestamp": 1592332672747,
     "user": {
      "displayName": "Rafael Walter de Albuquerque",
      "photoUrl": "",
      "userId": "00119834175126614512"
     },
     "user_tz": 180
    },
    "id": "ZhnEl3wQfL1i",
    "outputId": "7a572a02-d0d3-4bb1-ef47-cd87151e6870"
   },
   "outputs": [
    {
     "name": "stderr",
     "output_type": "stream",
     "text": [
      "'apt' nÆo ‚ reconhecido como um comando interno\n",
      "ou externo, um programa oper vel ou um arquivo em lotes.\n",
      "'apt' nÆo ‚ reconhecido como um comando interno\n",
      "ou externo, um programa oper vel ou um arquivo em lotes.\n",
      "'apt' nÆo ‚ reconhecido como um comando interno\n",
      "ou externo, um programa oper vel ou um arquivo em lotes.\n",
      "'apt' nÆo ‚ reconhecido como um comando interno\n",
      "ou externo, um programa oper vel ou um arquivo em lotes.\n"
     ]
    },
    {
     "name": "stdout",
     "output_type": "stream",
     "text": [
      "Requirement already satisfied: geopandas==0.5.1 in c:\\users\\rafael\\anaconda3\\envs\\rasterio_gpd\\lib\\site-packages (0.5.1)\n",
      "Requirement already satisfied: pandas in c:\\users\\rafael\\anaconda3\\envs\\rasterio_gpd\\lib\\site-packages (from geopandas==0.5.1) (1.1.1)\n",
      "Requirement already satisfied: shapely in c:\\users\\rafael\\anaconda3\\envs\\rasterio_gpd\\lib\\site-packages (from geopandas==0.5.1) (1.7.1)\n",
      "Requirement already satisfied: pyproj in c:\\users\\rafael\\anaconda3\\envs\\rasterio_gpd\\lib\\site-packages (from geopandas==0.5.1) (2.6.1.post1)\n",
      "Requirement already satisfied: fiona in c:\\users\\rafael\\anaconda3\\envs\\rasterio_gpd\\lib\\site-packages (from geopandas==0.5.1) (1.8.13)\n",
      "Requirement already satisfied: numpy>=1.15.4 in c:\\users\\rafael\\anaconda3\\envs\\rasterio_gpd\\lib\\site-packages (from pandas->geopandas==0.5.1) (1.19.1)\n",
      "Requirement already satisfied: pytz>=2017.2 in c:\\users\\rafael\\anaconda3\\envs\\rasterio_gpd\\lib\\site-packages (from pandas->geopandas==0.5.1) (2020.1)\n",
      "Requirement already satisfied: python-dateutil>=2.7.3 in c:\\users\\rafael\\anaconda3\\envs\\rasterio_gpd\\lib\\site-packages (from pandas->geopandas==0.5.1) (2.8.1)\n",
      "Requirement already satisfied: attrs>=17 in c:\\users\\rafael\\anaconda3\\envs\\rasterio_gpd\\lib\\site-packages (from fiona->geopandas==0.5.1) (20.1.0)\n",
      "Requirement already satisfied: click<8,>=4.0 in c:\\users\\rafael\\anaconda3\\envs\\rasterio_gpd\\lib\\site-packages (from fiona->geopandas==0.5.1) (7.1.2)\n",
      "Requirement already satisfied: cligj>=0.5 in c:\\users\\rafael\\anaconda3\\envs\\rasterio_gpd\\lib\\site-packages (from fiona->geopandas==0.5.1) (0.5.0)\n",
      "Requirement already satisfied: click-plugins>=1.0 in c:\\users\\rafael\\anaconda3\\envs\\rasterio_gpd\\lib\\site-packages (from fiona->geopandas==0.5.1) (1.1.1)\n",
      "Requirement already satisfied: six>=1.7 in c:\\users\\rafael\\anaconda3\\envs\\rasterio_gpd\\lib\\site-packages (from fiona->geopandas==0.5.1) (1.15.0)\n",
      "Requirement already satisfied: munch in c:\\users\\rafael\\anaconda3\\envs\\rasterio_gpd\\lib\\site-packages (from fiona->geopandas==0.5.1) (2.5.0)\n",
      "Requirement already satisfied: descartes in c:\\users\\rafael\\anaconda3\\envs\\rasterio_gpd\\lib\\site-packages (1.1.0)\n",
      "Requirement already satisfied: matplotlib in c:\\users\\rafael\\anaconda3\\envs\\rasterio_gpd\\lib\\site-packages (from descartes) (3.3.1)\n",
      "Requirement already satisfied: certifi>=2020.06.20 in c:\\users\\rafael\\anaconda3\\envs\\rasterio_gpd\\lib\\site-packages (from matplotlib->descartes) (2020.6.20)\n",
      "Requirement already satisfied: kiwisolver>=1.0.1 in c:\\users\\rafael\\anaconda3\\envs\\rasterio_gpd\\lib\\site-packages (from matplotlib->descartes) (1.2.0)\n",
      "Requirement already satisfied: cycler>=0.10 in c:\\users\\rafael\\anaconda3\\envs\\rasterio_gpd\\lib\\site-packages (from matplotlib->descartes) (0.10.0)\n",
      "Requirement already satisfied: pyparsing!=2.0.4,!=2.1.2,!=2.1.6,>=2.0.3 in c:\\users\\rafael\\anaconda3\\envs\\rasterio_gpd\\lib\\site-packages (from matplotlib->descartes) (2.4.7)\n",
      "Requirement already satisfied: numpy>=1.15 in c:\\users\\rafael\\anaconda3\\envs\\rasterio_gpd\\lib\\site-packages (from matplotlib->descartes) (1.19.1)\n",
      "Requirement already satisfied: python-dateutil>=2.1 in c:\\users\\rafael\\anaconda3\\envs\\rasterio_gpd\\lib\\site-packages (from matplotlib->descartes) (2.8.1)\n",
      "Requirement already satisfied: pillow>=6.2.0 in c:\\users\\rafael\\anaconda3\\envs\\rasterio_gpd\\lib\\site-packages (from matplotlib->descartes) (7.2.0)\n",
      "Requirement already satisfied: six in c:\\users\\rafael\\anaconda3\\envs\\rasterio_gpd\\lib\\site-packages (from cycler>=0.10->matplotlib->descartes) (1.15.0)\n"
     ]
    }
   ],
   "source": [
    "# THIS CELL CAUSES CONFUSION ON PIP AND CONDA GEOPANDAS!!!!!! TAKE CARE BEFORE RUNNONG IT!!!!!\n",
    "\n",
    "# Workaround - geopandas overlay function works in colab\n",
    "!apt update\n",
    "!apt upgrade\n",
    "!apt install gdal-bin python-gdal python3-gdal \n",
    "# Install rtree - Geopandas requirment\n",
    "!apt install python3-rtree \n",
    "# Install Geopandas\n",
    "! pip install geopandas==0.5.1\n",
    "# Install descartes - Geopandas requirment\n",
    "!pip install descartes \n"
   ]
  },
  {
   "cell_type": "code",
   "execution_count": 64,
   "metadata": {
    "colab": {},
    "colab_type": "code",
    "id": "ulDzZPcWd3Tg"
   },
   "outputs": [],
   "source": [
    "import geopandas as gpd\n",
    "from glob2 import glob\n",
    "from shapely.geometry import Polygon"
   ]
  },
  {
   "cell_type": "code",
   "execution_count": null,
   "metadata": {
    "colab": {
     "base_uri": "https://localhost:8080/",
     "height": 121
    },
    "colab_type": "code",
    "executionInfo": {
     "elapsed": 39613,
     "status": "ok",
     "timestamp": 1592333495866,
     "user": {
      "displayName": "Rafael Walter de Albuquerque",
      "photoUrl": "",
      "userId": "00119834175126614512"
     },
     "user_tz": 180
    },
    "id": "buez2WOJn9RP",
    "outputId": "23f11fdc-8c38-4b1e-8412-8bc4ad444f61"
   },
   "outputs": [
    {
     "name": "stdout",
     "output_type": "stream",
     "text": [
      "Go to this URL in a browser: https://accounts.google.com/o/oauth2/auth?client_id=947318989803-6bn6qk8qdgf4n4g3pfee6491hc0brc4i.apps.googleusercontent.com&redirect_uri=urn%3aietf%3awg%3aoauth%3a2.0%3aoob&response_type=code&scope=email%20https%3a%2f%2fwww.googleapis.com%2fauth%2fdocs.test%20https%3a%2f%2fwww.googleapis.com%2fauth%2fdrive%20https%3a%2f%2fwww.googleapis.com%2fauth%2fdrive.photos.readonly%20https%3a%2f%2fwww.googleapis.com%2fauth%2fpeopleapi.readonly\n",
      "\n",
      "Enter your authorization code:\n",
      "··········\n",
      "Mounted at /content/drive\n"
     ]
    }
   ],
   "source": [
    "from google.colab import drive\n",
    "drive.mount('/content/drive')"
   ]
  },
  {
   "cell_type": "code",
   "execution_count": 2,
   "metadata": {},
   "outputs": [
    {
     "name": "stderr",
     "output_type": "stream",
     "text": [
      "C:\\Users\\Rafael\\anaconda3\\envs\\rasterio_gpd\\lib\\site-packages\\pyproj\\crs\\crs.py:53: FutureWarning: '+init=<authority>:<code>' syntax is deprecated. '<authority>:<code>' is the preferred initialization method. When making the change, be mindful of axis order changes: https://pyproj4.github.io/pyproj/stable/gotchas.html#axis-order-changes-in-proj-6\n",
      "  return _prepare_from_string(\" \".join(pjargs))\n"
     ]
    },
    {
     "name": "stdout",
     "output_type": "stream",
     "text": [
      "C:/Projetos/Vant_Rondonia_Embrapa/Arquivos_cartograficos_09Dez2019/Deep_Learning_Cecropia/test_result\\pred_image0.shp\n",
      "    ID                                           geometry\n",
      "0  1.0  POLYGON ((303014.398 8950428.357, 303014.516 8...\n",
      "1  1.0  POLYGON ((303014.657 8950428.191, 303014.680 8...\n",
      "2  1.0  POLYGON ((303014.610 8950427.977, 303014.657 8...\n",
      "2397\n",
      "Empty GeoDataFrame\n",
      "Columns: [ID, geometry]\n",
      "Index: []\n",
      "4978\n",
      "Saving file with polygons only.... \n"
     ]
    }
   ],
   "source": [
    "# Delete empty shapefiles and save the shapefiles with data on a separate folder\n",
    "\n",
    "saveFolderPoligs = \"C:/Projetos/Vant_Rondonia_Embrapa/Arquivos_cartograficos_09Dez2019/Deep_Learning_Cecropia/test_result_poligs\"\n",
    "\n",
    "# Define the shapefileList variable\n",
    "shapefileList = glob(\"C:/Projetos/Vant_Rondonia_Embrapa/Arquivos_cartograficos_09Dez2019/Deep_Learning_Cecropia/test_result/*.shp\")\n",
    "\n",
    "poligonShapes = []\n",
    "\n",
    "lineShapes = []\n",
    "\n",
    "i = 0\n",
    "\n",
    "for shapefile1 in shapefileList:\n",
    "    # Load the first shapefile\n",
    "    shape1 = gpd.read_file(shapefile1)\n",
    "    if shape1[\"geometry\"].empty:\n",
    "        lineShapes.append(shape1)\n",
    "    else:\n",
    "        poligonShapes.append(shape1)\n",
    "        df2 = gpd.geoseries.GeoSeries(shape1[\"geometry\"])\n",
    "        df2 = gpd.GeoDataFrame({'geometry': df2})\n",
    "        df2.crs = {'init': 'epsg:32720'}\n",
    "        df2.to_file(f\"{saveFolderPoligs}/pred_image{str(i)}.shp\")\n",
    "        i = i + 1\n",
    "\n",
    "print(shapefileList[0])\n",
    "print(poligonShapes[0])\n",
    "print(len(poligonShapes))\n",
    "print(lineShapes[0])\n",
    "print(len(lineShapes))\n",
    "\n",
    "print(\"Saving file with polygons only.... \")"
   ]
  },
  {
   "cell_type": "code",
   "execution_count": 10,
   "metadata": {
    "colab": {},
    "colab_type": "code",
    "id": "Pq2tQ2QnXEnr"
   },
   "outputs": [],
   "source": [
    "# Code to merge overlapping shapefiles\n",
    "\n",
    "# Load shapefile\n",
    "shapesAll = []\n",
    "#shapesIsolated = []\n",
    "shapesUnion = []\n",
    "getshapefiles = glob(\"C:/Projetos/Vant_Rondonia_Embrapa/Arquivos_cartograficos_09Dez2019/Deep_Learning_Cecropia/test_few_poligs/*.shp\")\n",
    "for shape1s in getshapefiles:\n",
    "    shape1 = gpd.read_file(shape1s)\n",
    "    for shape in shape1[\"geometry\"]:\n",
    "        shapesAll.append(shape)\n",
    "    for shape2s in getshapefiles:\n",
    "        if shape2s == shape1s:\n",
    "            pass\n",
    "        else:\n",
    "            shape2 = gpd.read_file(shape2s)\n",
    "        # Select overlapping tiles \n",
    "            x = gpd.sjoin(shape1, shape2, how='inner',op='intersects')\n",
    "            # evaluate if dataframe is empty\n",
    "            if x.empty:\n",
    "                #shapesIsolated.append(shape)\n",
    "                pass\n",
    "            else:\n",
    "                y = gpd.sjoin(shape2, shape1, how='inner',op='intersects')\n",
    "                j = gpd.overlay(x, y, how='union')\n",
    "                geoms = j.geometry.unary_union\n",
    "                if (str(type(geoms)) == \"<class 'shapely.geometry.collection.GeometryCollection'>\"):\n",
    "                    pass\n",
    "                else:\n",
    "                    shapesUnion.append(geoms)\n",
    "\n",
    "\n",
    "if shapesUnion == []:\n",
    "    print(\"No Overlapping Polygons, saving file with all the polygons.... \")\n",
    "    df2 = gpd.geoseries.GeoSeries(shapesAll)\n",
    "    df2 = gpd.GeoDataFrame({'geometry': df2})\n",
    "    df2.crs = {'init': 'epsg:32720'}\n",
    "    df2.to_file(f\"C:/Projetos/Vant_Rondonia_Embrapa/Arquivos_cartograficos_09Dez2019/Deep_Learning_Cecropia/test_few_poligs/teste_autoMerge.shp\")\n",
    "    \n",
    "else:  \n",
    "    df3 = gpd.geoseries.GeoSeries(shapesAll)\n",
    "    df3 = gpd.GeoDataFrame({'geometry': df3})\n",
    "    df3.crs = shape1.crs\n",
    "    df2 = gpd.geoseries.GeoSeries(shapesUnion)\n",
    "    # Merge united features\n",
    "    df2 = df2.geometry.unary_union\n",
    "    df2 = gpd.GeoDataFrame({'geometry': df2})\n",
    "    df2.crs = shape1.crs\n",
    "    df4 = gpd.overlay(df3,df2, how = \"symmetric_difference\")\n",
    "    # Union of df4 (all shapes, but without the overlapping shapes) and df2 (overlapping dissolved shapes)\n",
    "    df4 = gpd.overlay(df4,df2,how = \"union\")\n",
    "    df4.crs = shape1.crs\n",
    "    # Save file\n",
    "    df4.to_file(f\"C:/Projetos/Vant_Rondonia_Embrapa/Arquivos_cartograficos_09Dez2019/Deep_Learning_Cecropia/test_few_poligs/teste_autoMerge.shp\")"
   ]
  },
  {
   "cell_type": "code",
   "execution_count": 3,
   "metadata": {
    "colab": {
     "base_uri": "https://localhost:8080/",
     "height": 306
    },
    "colab_type": "code",
    "executionInfo": {
     "elapsed": 1081,
     "status": "ok",
     "timestamp": 1592342228892,
     "user": {
      "displayName": "Rafael Walter de Albuquerque",
      "photoUrl": "",
      "userId": "00119834175126614512"
     },
     "user_tz": 180
    },
    "id": "-qNI6D8KXENt",
    "outputId": "27ccdb58-009d-449f-f3f0-1d902c261e21"
   },
   "outputs": [
    {
     "name": "stderr",
     "output_type": "stream",
     "text": [
      "C:\\Users\\Rafael\\anaconda3\\envs\\rasterio_gpd\\lib\\site-packages\\pyproj\\crs\\crs.py:53: FutureWarning: '+init=<authority>:<code>' syntax is deprecated. '<authority>:<code>' is the preferred initialization method. When making the change, be mindful of axis order changes: https://pyproj4.github.io/pyproj/stable/gotchas.html#axis-order-changes-in-proj-6\n",
      "  return _prepare_from_string(\" \".join(pjargs))\n"
     ]
    },
    {
     "data": {
      "text/plain": [
       "<AxesSubplot:>"
      ]
     },
     "execution_count": 3,
     "metadata": {},
     "output_type": "execute_result"
    },
    {
     "data": {
      "image/png": "[encoded data removed]",
      "text/plain": [
       "<Figure size 432x288 with 1 Axes>"
      ]
     },
     "metadata": {
      "needs_background": "light"
     },
     "output_type": "display_data"
    }
   ],
   "source": [
    "# Deletar polígonos pequenos oriundos da conversão de raster pra shape\n",
    "shapeUnited = gpd.read_file(\"C:/Projetos/Vant_Rondonia_Embrapa/Arquivos_cartograficos_09Dez2019/Deep_Learning_Cecropia/test_few_poligs/teste_autoMerge.shp\")\n",
    "#shapeUnited.area[0]\n",
    "correctShapes = []\n",
    "i = 0\n",
    "for feature in shapeUnited[\"geometry\"]:\n",
    "  if shapeUnited.area[i] > 0.05:\n",
    "    correctShapes.append(feature)\n",
    "  i = i + 1\n",
    "\n",
    "treeCrowns = gpd.geoseries.GeoSeries(correctShapes)\n",
    "treeCrowns = gpd.GeoDataFrame({'geometry': treeCrowns})\n",
    "treeCrowns.crs = {'init': 'epsg:32720'}\n",
    "treeCrowns.to_file(f\"C:/Projetos/Vant_Rondonia_Embrapa/Arquivos_cartograficos_09Dez2019/Deep_Learning_Cecropia/test_few_poligs/autoMerge_filtered.shp\")\n",
    "treeCrowns.plot(cmap='cividis', alpha=0.7, edgecolor='black')"
   ]
  },
  {
   "cell_type": "code",
   "execution_count": 70,
   "metadata": {},
   "outputs": [
    {
     "name": "stderr",
     "output_type": "stream",
     "text": [
      "C:\\Users\\Rafael\\anaconda3\\envs\\rasterio_gpd\\lib\\site-packages\\pyproj\\crs\\crs.py:53: FutureWarning: '+init=<authority>:<code>' syntax is deprecated. '<authority>:<code>' is the preferred initialization method. When making the change, be mindful of axis order changes: https://pyproj4.github.io/pyproj/stable/gotchas.html#axis-order-changes-in-proj-6\n",
      "  return _prepare_from_string(\" \".join(pjargs))\n"
     ]
    },
    {
     "data": {
      "text/plain": [
       "<AxesSubplot:>"
      ]
     },
     "execution_count": 70,
     "metadata": {},
     "output_type": "execute_result"
    },
    {
     "data": {
      "image/png": "[encoded data removed]",
      "text/plain": [
       "<Figure size 432x288 with 1 Axes>"
      ]
     },
     "metadata": {
      "needs_background": "light"
     },
     "output_type": "display_data"
    }
   ],
   "source": [
    "# Delete polygon rings\n",
    "\n",
    "shapeUnited = gpd.read_file(\"C:/Projetos/Vant_Rondonia_Embrapa/Arquivos_cartograficos_09Dez2019/Deep_Learning_Cecropia/test_few_poligs/autoMerge_filtered.shp\")\n",
    "solidShapes = []\n",
    "i = 0\n",
    "\n",
    "# Find polygons that contain rings\n",
    "for feature in shapeUnited[\"geometry\"]:\n",
    "    # Check if feature contain rings\n",
    "  if len(shapeUnited[\"geometry\"].interiors[i]) > 0:\n",
    "    # Convert the exterior line into a polygon and add the obtained polygon (without any rings) into a list\n",
    "    solidShapes.append(Polygon(shapeUnited[\"geometry\"][i].exterior))\n",
    "  else:\n",
    "    # If polygons don't have rings they can be added to a list directly and without any processing\n",
    "    solidShapes.append(feature)\n",
    "  i = i + 1  \n",
    "\n",
    "treeCrowns = gpd.geoseries.GeoSeries(solidShapes)\n",
    "treeCrowns = gpd.GeoDataFrame({'geometry': treeCrowns})\n",
    "treeCrowns.crs = {'init': 'epsg:32720'}\n",
    "treeCrowns.to_file(f\"C:/Projetos/Vant_Rondonia_Embrapa/Arquivos_cartograficos_09Dez2019/Deep_Learning_Cecropia/test_few_poligs/autoMerge_filtered_NoRings.shp\")\n",
    "treeCrowns.plot(cmap='cividis', alpha=0.7, edgecolor='black')"
   ]
  },
  {
   "cell_type": "code",
   "execution_count": null,
   "metadata": {},
   "outputs": [],
   "source": []
  },
  {
   "cell_type": "code",
   "execution_count": null,
   "metadata": {},
   "outputs": [],
   "source": []
  },
  {
   "cell_type": "code",
   "execution_count": null,
   "metadata": {},
   "outputs": [],
   "source": []
  },
  {
   "cell_type": "code",
   "execution_count": null,
   "metadata": {},
   "outputs": [],
   "source": []
  },
  {
   "cell_type": "code",
   "execution_count": 14,
   "metadata": {
    "colab": {},
    "colab_type": "code",
    "id": "qvfDBUDeWnZE"
   },
   "outputs": [],
   "source": [
    "# ATENTION! CODE BELOW HAS PROBLEM!! OUTPUT FILE DOESNT SEPARATE OVERLAPPING FEATURES PROPERLY!!!\n",
    "\n",
    "#Code to merge the shapefiles from overlapping tiles\n",
    "\n",
    "def mergeOverlapShapes(shapefileList,saveFolder,saveName):\n",
    "  \"\"\"\n",
    "  Function to merge the shapefile from overlapping tiles\n",
    "\n",
    "  Parameters:\n",
    "\n",
    "  shapefileList (list) = list with the path to the shapefiles.\n",
    "\n",
    "  saveFolder (string) = path to save the result.\n",
    "\n",
    "  saveName (string) = name of the saved file.\n",
    "\n",
    "  \"\"\"\n",
    "\n",
    "  # List to store the overlapping shapefiles\n",
    "  overlappingShapes = []\n",
    "\n",
    "  # List to store all the shapefiles\n",
    "  allShapes = []\n",
    "\n",
    "  # Define the shapefileList variable\n",
    "  shapefileList = shapefileList\n",
    "\n",
    "  # Loop over all the shapefiles in the list\n",
    "  for shapefile1 in shapefileList:\n",
    "    # Load the first shapefile\n",
    "    shape1 = gpd.read_file(shapefile1)\n",
    "\n",
    "    # Loop over all the polygons in a file and store them in a list\n",
    "    for shape in shape1[\"geometry\"]:\n",
    "        allShapes.append(shape)\n",
    "\n",
    "      # Loop to compare the first shapefile with the other shapefiles \n",
    "    for shapefile2 in shapefileList:\n",
    "      # if the files are the same, pass\n",
    "      if shapefile1 == shapefile2:\n",
    "        pass\n",
    "\n",
    "      else:\n",
    "        # Load the second shapefile\n",
    "        shape2 = gpd.read_file(shapefile2)\n",
    "        # Select the overlapping shapefiles from the first file (left)\n",
    "        overlap_left = gpd.sjoin(shape1,shape2, how = \"inner\", op = \"intersects\")\n",
    "        # Evaluate if x is overlap is empty (no overlaps)\n",
    "        if overlap_left.empty:\n",
    "            pass\n",
    "        else:\n",
    "          # Select the overlapping shapefiles from the second file (right)\n",
    "          overlap_right  = gpd.sjoin(shape2, shape1, how='inner',op='intersects')\n",
    "          #Overlay the union of both shapefiles\n",
    "          union = gpd.overlay(overlap_left, overlap_right, how = \"union\")\n",
    "          # Calculate the unary_union\n",
    "          geoms = union.geometry.unary_union\n",
    "          # Evalute if the Geometry is empty\n",
    "          if (str(type(geoms)) == \"<class 'shapely.geometry.collection.GeometryCollection'>\"):\n",
    "            pass\n",
    "          else:\n",
    "            overlappingShapes.append(geoms)\n",
    "\n",
    "  # Evalute if sh list is empty (no overlaps)\n",
    "  if overlappingShapes == []:\n",
    "    print(\"No Overlapping Polygons, saving file with all the polygons.... \")\n",
    "    df2 = gpd.geoseries.GeoSeries(allShapes)\n",
    "    df2 = gpd.GeoDataFrame({'geometry': df2})\n",
    "    df2.crs = {'init': 'epsg:32720'}\n",
    "    df2.to_file(f\"{saveFolder}/{saveName}.shp\")\n",
    "    df2.plot(cmap='cividis', alpha=0.7, edgecolor='black')\n",
    "    \n",
    "  else:  \n",
    "    df3 = gpd.geoseries.GeoSeries(overlappingShapes)\n",
    "    df3 = df3.geometry.unary_union\n",
    "    df3 = gpd.GeoDataFrame({'geometry': df3})\n",
    "    df3.crs = {'init': 'epsg:32720'}\n",
    "    df2 = gpd.geoseries.GeoSeries(allShapes)\n",
    "    df2 = gpd.GeoDataFrame({'geometry': df2})\n",
    "    df2.crs = {'init': 'epsg:32720'}\n",
    "    df2 = gpd.overlay(df2,df3, how = \"symmetric_difference\")\n",
    "    # Union of df2 (all shapes, but without the overlapping shapes) and df3(overlapping dissolved shapes)\n",
    "    df2 = gpd.overlay(df2,df3,how = \"union\")\n",
    "    # Save file\n",
    "    df2.to_file(f\"{saveFolder}/{saveName}.shp\")\n",
    "    df2.plot(cmap='cividis', alpha=0.7, edgecolor='black')"
   ]
  },
  {
   "cell_type": "code",
   "execution_count": 17,
   "metadata": {
    "colab": {
     "base_uri": "https://localhost:8080/",
     "height": 54
    },
    "colab_type": "code",
    "executionInfo": {
     "elapsed": 912,
     "status": "ok",
     "timestamp": 1591918324417,
     "user": {
      "displayName": "Rafael Walter de Albuquerque",
      "photoUrl": "",
      "userId": "00119834175126614512"
     },
     "user_tz": 180
    },
    "id": "lN04436Pdi5J",
    "outputId": "0a069fc9-068e-4783-99f4-c98850de83ba"
   },
   "outputs": [
    {
     "name": "stdout",
     "output_type": "stream",
     "text": [
      "['C:/Projetos/Vant_Rondonia_Embrapa/Arquivos_cartograficos_09Dez2019/Deep_Learning_Cecropia/test_few_poligs\\\\pred_image1204.shp', 'C:/Projetos/Vant_Rondonia_Embrapa/Arquivos_cartograficos_09Dez2019/Deep_Learning_Cecropia/test_few_poligs\\\\pred_image1205.shp', 'C:/Projetos/Vant_Rondonia_Embrapa/Arquivos_cartograficos_09Dez2019/Deep_Learning_Cecropia/test_few_poligs\\\\pred_image1263.shp']\n"
     ]
    }
   ],
   "source": [
    "# Test \n",
    "\n",
    "from glob import glob\n",
    "# Get the shapefiles path \n",
    "getshapefiles = glob(\"C:/Projetos/Vant_Rondonia_Embrapa/Arquivos_cartograficos_09Dez2019/Deep_Learning_Cecropia/test_few_poligs/*.shp\")\n",
    "print(getshapefiles)\n",
    "saveFolder = \"C:/Projetos/Vant_Rondonia_Embrapa/Arquivos_cartograficos_09Dez2019/Deep_Learning_Cecropia/test_few_poligs\"\n",
    "saveName = \"cecropia_teste2_merged\"\n"
   ]
  },
  {
   "cell_type": "code",
   "execution_count": 18,
   "metadata": {
    "colab": {
     "base_uri": "https://localhost:8080/",
     "height": 289
    },
    "colab_type": "code",
    "executionInfo": {
     "elapsed": 16931,
     "status": "ok",
     "timestamp": 1591918343554,
     "user": {
      "displayName": "Rafael Walter de Albuquerque",
      "photoUrl": "",
      "userId": "00119834175126614512"
     },
     "user_tz": 180
    },
    "id": "4GqA4fm5eU9k",
    "outputId": "f20b09a8-a31e-4a37-8fef-5deee3cea727"
   },
   "outputs": [
    {
     "name": "stderr",
     "output_type": "stream",
     "text": [
      "C:\\Users\\Rafael\\anaconda3\\envs\\rasterio_gpd\\lib\\site-packages\\pyproj\\crs\\crs.py:53: FutureWarning: '+init=<authority>:<code>' syntax is deprecated. '<authority>:<code>' is the preferred initialization method. When making the change, be mindful of axis order changes: https://pyproj4.github.io/pyproj/stable/gotchas.html#axis-order-changes-in-proj-6\n",
      "  return _prepare_from_string(\" \".join(pjargs))\n"
     ]
    },
    {
     "data": {
      "image/png": "[encoded data removed]",
      "text/plain": [
       "<Figure size 432x288 with 1 Axes>"
      ]
     },
     "metadata": {
      "needs_background": "light"
     },
     "output_type": "display_data"
    }
   ],
   "source": [
    "mergeOverlapShapes(shapefileList=getshapefiles,\n",
    "                   saveFolder = saveFolder,\n",
    "                   saveName = saveName)"
   ]
  },
  {
   "cell_type": "code",
   "execution_count": null,
   "metadata": {
    "colab": {},
    "colab_type": "code",
    "id": "GDQmguHiwvgE"
   },
   "outputs": [],
   "source": []
  },
  {
   "cell_type": "code",
   "execution_count": null,
   "metadata": {
    "colab": {},
    "colab_type": "code",
    "id": "OR_ECrLXXEeE"
   },
   "outputs": [],
   "source": []
  },
  {
   "cell_type": "code",
   "execution_count": null,
   "metadata": {},
   "outputs": [],
   "source": []
  },
  {
   "cell_type": "code",
   "execution_count": null,
   "metadata": {
    "colab": {},
    "colab_type": "code",
    "id": "Yz0dOIkTepQE"
   },
   "outputs": [],
   "source": [
    "# ATENTION! CODE BELOW HAS PROBLEM!! OUTPUT FILE DOESNT SEPARATE OVERLAPPING FEATURES PROPERLY!!!\n",
    "\n",
    "# Load shapefile\n",
    "shapes = []\n",
    "shapesUnion = []\n",
    "getshapefiles = glob(\"/content/drive/My Drive/Mask_RCNN/codigo_merge_e_overlap/data_test/*[0-8].shp\")\n",
    "for shape1s in getshapefiles:\n",
    "    shape1 = gpd.read_file(shape1s)\n",
    "    for shape in shape1[\"geometry\"]:\n",
    "        shapesUnion.append(shape)\n",
    "    for shape2s in getshapefiles:\n",
    "        if shape2s == shape1s:\n",
    "            pass\n",
    "        else:\n",
    "            shape2 = gpd.read_file(shape2s)\n",
    "        # Select overlapping tiles \n",
    "            x = gpd.sjoin(shape1, shape2, how='inner',op='intersects')\n",
    "            # evaluate if dataframe is empty\n",
    "            if x.empty:\n",
    "                pass\n",
    "            else:\n",
    "                y = gpd.sjoin(shape2, shape1, how='inner',op='intersects')\n",
    "                j = gpd.overlay(x, y, how='union')\n",
    "                geoms = j.geometry.unary_union\n",
    "                if (str(type(geoms)) == \"<class 'shapely.geometry.collection.GeometryCollection'>\"):\n",
    "                    pass\n",
    "                else:\n",
    "                    shapes.append(geoms)\n",
    "\n",
    "\n",
    "if shapes == []:\n",
    "    print(\"No Overlapping Polygons, saving file with all the polygons.... \")\n",
    "    df2 = gpd.geoseries.GeoSeries(shapesUnion)\n",
    "    df2 = gpd.GeoDataFrame({'geometry': df2})\n",
    "    df2.crs = {'init': 'epsg:32723'}\n",
    "    df2.to_file(\"df_final_test.geojson\", driver='GeoJSON')\n",
    "    \n",
    "else:  \n",
    "    df3 = gpd.geoseries.GeoSeries(shapes)\n",
    "    df3 = gpd.GeoDataFrame({'geometry': df3})\n",
    "    df3.crs = shape1.crs\n",
    "    df2 = gpd.geoseries.GeoSeries(shapesUnion)\n",
    "    df2 = gpd.GeoDataFrame({'geometry': df2})\n",
    "    df2.crs = shape1.crs\n",
    "    # df2 = gpd.overlay(df2,df3, how = \"symmetric_difference\")\n",
    "    # Union of df2 (all shapes, but without the overlapping shapes) and df3(overlapping dissolved shapes)\n",
    "    df2 = gpd.overlay(df2,df3,how = \"union\")\n",
    "    df2.crs = shape1.crs\n",
    "    # Save file\n",
    "    df2.to_file(\"df_final.geojson\", driver='GeoJSON')"
   ]
  },
  {
   "cell_type": "code",
   "execution_count": null,
   "metadata": {
    "colab": {
     "base_uri": "https://localhost:8080/",
     "height": 294
    },
    "colab_type": "code",
    "executionInfo": {
     "elapsed": 1594,
     "status": "ok",
     "timestamp": 1591897938497,
     "user": {
      "displayName": "Lucas Pedrosa Soares",
      "photoUrl": "",
      "userId": "00853330871084475621"
     },
     "user_tz": 180
    },
    "id": "qQIDf4GieSa3",
    "outputId": "aa7023b1-889b-4f56-ec9a-4457f6ac139c"
   },
   "outputs": [
    {
     "data": {
      "text/plain": [
       "<matplotlib.axes._subplots.AxesSubplot at 0x7fe19d265470>"
      ]
     },
     "execution_count": 6,
     "metadata": {
      "tags": []
     },
     "output_type": "execute_result"
    },
    {
     "data": {
      "image/png": "[encoded data removed]",
      "text/plain": [
       "<Figure size 432x288 with 1 Axes>"
      ]
     },
     "metadata": {
      "needs_background": "light",
      "tags": []
     },
     "output_type": "display_data"
    }
   ],
   "source": [
    "df2.plot()"
   ]
  },
  {
   "cell_type": "code",
   "execution_count": null,
   "metadata": {
    "colab": {
     "base_uri": "https://localhost:8080/",
     "height": 136
    },
    "colab_type": "code",
    "executionInfo": {
     "elapsed": 1708,
     "status": "error",
     "timestamp": 1591898740250,
     "user": {
      "displayName": "Lucas Pedrosa Soares",
      "photoUrl": "",
      "userId": "00853330871084475621"
     },
     "user_tz": 180
    },
    "id": "eiRSEslafhqH",
    "outputId": "f4b6370d-8c1d-4d8e-cadb-67e62f9945e6"
   },
   "outputs": [
    {
     "ename": "SyntaxError",
     "evalue": "ignored",
     "output_type": "error",
     "traceback": [
      "\u001b[0;36m  File \u001b[0;32m\"<ipython-input-8-05e9d2dd7ef6>\"\u001b[0;36m, line \u001b[0;32m1\u001b[0m\n\u001b[0;31m    0.5.1\u001b[0m\n\u001b[0m        ^\u001b[0m\n\u001b[0;31mSyntaxError\u001b[0m\u001b[0;31m:\u001b[0m invalid syntax\n"
     ]
    }
   ],
   "source": [
    "0.5.1"
   ]
  },
  {
   "cell_type": "code",
   "execution_count": null,
   "metadata": {
    "colab": {},
    "colab_type": "code",
    "id": "vlDb-YBRjw7y"
   },
   "outputs": [],
   "source": []
  }
 ],
 "metadata": {
  "colab": {
   "name": "PR2y_Merge_OverlappingShapefiles.ipynb",
   "provenance": []
  },
  "kernelspec": {
   "display_name": "Python 3",
   "language": "python",
   "name": "python3"
  },
  "language_info": {
   "codemirror_mode": {
    "name": "ipython",
    "version": 3
   },
   "file_extension": ".py",
   "mimetype": "text/x-python",
   "name": "python",
   "nbconvert_exporter": "python",
   "pygments_lexer": "ipython3",
   "version": "3.7.6"
  }
 },
 "nbformat": 4,
 "nbformat_minor": 1
}
