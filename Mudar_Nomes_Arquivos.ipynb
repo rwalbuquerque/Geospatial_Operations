{
 "cells": [
  {
   "cell_type": "code",
   "execution_count": 1,
   "metadata": {},
   "outputs": [],
   "source": [
    "# importing os module \n",
    "import os \n",
    "  \n",
    "# Function to rename multiple files \n",
    "def main(): \n",
    "  \n",
    "    for count, filename in enumerate(os.listdir(\"C:/Projetos/Vant_Apui/Phantom3/Capoeira_2anos/Deep_Learning_PR2y/Mask_RCNN/dataset/trees/Tiles_Overlap/\")): \n",
    "        numero = count# + 1\n",
    "        dst =\"image\" + str(numero) + \".tif\"\n",
    "        src =\"C:/Projetos/Vant_Apui/Phantom3/Capoeira_2anos/Deep_Learning_PR2y/Mask_RCNN/dataset/trees/Tiles_Overlap/\"+ filename \n",
    "        dst =\"C:/Projetos/Vant_Apui/Phantom3/Capoeira_2anos/Deep_Learning_PR2y/Mask_RCNN/dataset/trees/Tiles_Overlap/\" + dst\n",
    "          \n",
    "        # rename() function will \n",
    "        # rename all the files \n",
    "        os.rename(src, dst) \n",
    "  \n",
    "# Driver Code \n",
    "if __name__ == '__main__': \n",
    "      \n",
    "    # Calling main() function \n",
    "    main() "
   ]
  },
  {
   "cell_type": "code",
   "execution_count": 2,
   "metadata": {},
   "outputs": [
    {
     "data": {
      "text/plain": [
       "<enumerate at 0x2385715e098>"
      ]
     },
     "execution_count": 2,
     "metadata": {},
     "output_type": "execute_result"
    }
   ],
   "source": [
    "enumerate(os.listdir(\"C:/Projetos/Vant_Apui/Phantom3/Capoeira_2anos/Deep_Learning_PR2y/Mask_RCNN/dataset/trees/Tiles_Overlap/\"))"
   ]
  }
 ],
 "metadata": {
  "kernelspec": {
   "display_name": "Python 3",
   "language": "python",
   "name": "python3"
  },
  "language_info": {
   "codemirror_mode": {
    "name": "ipython",
    "version": 3
   },
   "file_extension": ".py",
   "mimetype": "text/x-python",
   "name": "python",
   "nbconvert_exporter": "python",
   "pygments_lexer": "ipython3",
   "version": "3.7.6"
  }
 },
 "nbformat": 4,
 "nbformat_minor": 2
}
